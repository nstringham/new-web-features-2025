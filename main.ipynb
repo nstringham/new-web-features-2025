{
 "cells": [
  {
   "cell_type": "markdown",
   "metadata": {},
   "source": [
    "### Destructuring\n",
    "- [MDN](https://developer.mozilla.org/en-US/docs/Web/JavaScript/Reference/Operators/Destructuring_assignment)\n",
    "- separate a structure into different variables"
   ]
  },
  {
   "cell_type": "code",
   "execution_count": 1,
   "metadata": {},
   "outputs": [
    {
     "name": "stdout",
     "output_type": "stream",
     "text": [
      "name: new javascript features\n",
      "id: 1234\n",
      "everythingElse: { a: 1, b: 2, c: 3 }\n"
     ]
    }
   ],
   "source": [
    "{\n",
    "    const object = { name: \"new javascript features\", id: 1234, a: 1, b: 2, c: 3 };\n",
    "    const { name, id, ...everythingElse } = object;\n",
    "    console.log(\"name:\", name);\n",
    "    console.log(\"id:\", id);\n",
    "    console.log(\"everythingElse:\", everythingElse);\n",
    "}"
   ]
  },
  {
   "cell_type": "code",
   "execution_count": 2,
   "metadata": {},
   "outputs": [
    {
     "name": "stdout",
     "output_type": "stream",
     "text": [
      "first: 3\n",
      "second: 1\n",
      "remaining: [ 4, 1, 5 ]\n"
     ]
    }
   ],
   "source": [
    "{\n",
    "    const array = [3, 1, 4, 1, 5];\n",
    "    const [first, second, ...everythingElse] = array;\n",
    "    console.log(\"first:\", first);\n",
    "    console.log(\"second:\", second);\n",
    "    console.log(\"remaining:\", everythingElse);\n",
    "}"
   ]
  },
  {
   "cell_type": "markdown",
   "metadata": {},
   "source": [
    "### String Template Literals\n",
    "- [MDN](https://developer.mozilla.org/en-US/docs/Web/JavaScript/Reference/Template_literals)\n",
    "- stick values into strings\n",
    "- allows custom implementation"
   ]
  },
  {
   "cell_type": "code",
   "execution_count": 3,
   "metadata": {},
   "outputs": [
    {
     "data": {
      "text/plain": [
       "\u001b[32m\"Hello Tech by 2 3 + 2 = 5\"\u001b[39m"
      ]
     },
     "execution_count": 3,
     "metadata": {},
     "output_type": "execute_result"
    }
   ],
   "source": [
    "const sigName = \"Tech by 2\";\n",
    "`Hello ${sigName} 3 + 2 = ${3 + 2}`"
   ]
  },
  {
   "cell_type": "code",
   "execution_count": 4,
   "metadata": {},
   "outputs": [
    {
     "data": {
      "text/plain": [
       "\u001b[32m\"\\n\"\u001b[39m +\n",
       "  \u001b[32m\"        PREPARE plan (int) AS\\n\"\u001b[39m +\n",
       "  \u001b[32m\"            SELECT * FROM user WHERE user.id = $1 and user.deleted = 0;\\n\"\u001b[39m +\n",
       "  \u001b[32m\"        EXECUTE plan('1234');\\n\"\u001b[39m +\n",
       "  \u001b[32m\"    \"\u001b[39m"
      ]
     },
     "execution_count": 4,
     "metadata": {},
     "output_type": "execute_result"
    }
   ],
   "source": [
    "function sql(parts: TemplateStringsArray, ...values: (number | string)[]) {\n",
    "    const sqlTypeNames = { number: \"int\", string: \"text\"};\n",
    "    return `\n",
    "        PREPARE plan (${values.map(value => sqlTypeNames[typeof value]).join(\", \")}) AS\n",
    "            ${parts.map((part, i) => i == 0 ? part : \"$\" + i + part).join(\"\")};\n",
    "        EXECUTE plan(${values.map(value => `'${value}'`).join(\", \")});\n",
    "    `;\n",
    "}\n",
    "function getUserById(id: number) {\n",
    "    return sql`SELECT * FROM user WHERE user.id = ${id} and user.deleted = 0`;\n",
    "}\n",
    "getUserById(1234);"
   ]
  },
  {
   "cell_type": "code",
   "execution_count": 5,
   "metadata": {},
   "outputs": [
    {
     "data": {
      "text/plain": [
       "\u001b[32m\"\\n\"\u001b[39m +\n",
       "  \u001b[32m\"        PREPARE plan (text) AS\\n\"\u001b[39m +\n",
       "  \u001b[32m\"            SELECT * FROM user WHERE user.name = $1 and user.deleted = 0;\\n\"\u001b[39m +\n",
       "  \u001b[32m\"        EXECUTE plan('; DROP TABLE users; --');\\n\"\u001b[39m +\n",
       "  \u001b[32m\"    \"\u001b[39m"
      ]
     },
     "execution_count": 5,
     "metadata": {},
     "output_type": "execute_result"
    }
   ],
   "source": [
    "function getUserByName(id: number) {\n",
    "    return sql`SELECT * FROM user WHERE user.name = ${id} and user.deleted = 0`;\n",
    "}\n",
    "getUserByName(\"; DROP TABLE users; --\");"
   ]
  },
  {
   "cell_type": "markdown",
   "metadata": {},
   "source": [
    "### Nullish Coalescing Operator (??)\n",
    "\n",
    "- [MDN](https://developer.mozilla.org/en-US/docs/Web/JavaScript/Reference/Operators/Nullish_coalescing)\n",
    "- Like `||` but for `null` and `undefined`\n"
   ]
  },
  {
   "cell_type": "code",
   "execution_count": 6,
   "metadata": {},
   "outputs": [
    {
     "data": {
      "text/plain": [
       "\u001b[32m\"A\"\u001b[39m"
      ]
     },
     "execution_count": 6,
     "metadata": {},
     "output_type": "execute_result"
    }
   ],
   "source": [
    "\"A\" ?? \"default\";"
   ]
  },
  {
   "cell_type": "code",
   "execution_count": 7,
   "metadata": {},
   "outputs": [
    {
     "data": {
      "text/plain": [
       "\u001b[32m\"default\"\u001b[39m"
      ]
     },
     "execution_count": 7,
     "metadata": {},
     "output_type": "execute_result"
    }
   ],
   "source": [
    "null ?? \"default\";"
   ]
  },
  {
   "cell_type": "code",
   "execution_count": 8,
   "metadata": {},
   "outputs": [
    {
     "data": {
      "text/plain": [
       "\u001b[32m\"default\"\u001b[39m"
      ]
     },
     "execution_count": 8,
     "metadata": {},
     "output_type": "execute_result"
    }
   ],
   "source": [
    "undefined ?? \"default\";"
   ]
  },
  {
   "cell_type": "code",
   "execution_count": 9,
   "metadata": {},
   "outputs": [
    {
     "data": {
      "text/plain": [
       "\u001b[33mfalse\u001b[39m"
      ]
     },
     "execution_count": 9,
     "metadata": {},
     "output_type": "execute_result"
    }
   ],
   "source": [
    "false ?? \"default\";"
   ]
  },
  {
   "cell_type": "code",
   "execution_count": 10,
   "metadata": {},
   "outputs": [
    {
     "data": {
      "text/plain": [
       "\u001b[33m0\u001b[39m"
      ]
     },
     "execution_count": 10,
     "metadata": {},
     "output_type": "execute_result"
    }
   ],
   "source": [
    "const DEFAULT_VOLUME = 0.5;\n",
    "const user_set_volume = 0;\n",
    "user_set_volume ?? DEFAULT_VOLUME;"
   ]
  },
  {
   "cell_type": "markdown",
   "metadata": {},
   "source": [
    "### Optional Chaining (?.)\n",
    "\n",
    "- [MDN](https://developer.mozilla.org/en-US/docs/Web/JavaScript/Reference/Operators/Optional_chaining)\n",
    "- access properties on objects that might not exist\n"
   ]
  },
  {
   "cell_type": "code",
   "execution_count": 11,
   "metadata": {},
   "outputs": [],
   "source": [
    "type User = {\n",
    "    name: string;\n",
    "    email?: string;\n",
    "    avatar?: {\n",
    "        url: URL;\n",
    "        height: number;\n",
    "        width: number;\n",
    "    };\n",
    "    activeSessions: string[]\n",
    "    logout?: () => void;\n",
    "};\n",
    "\n",
    "const nate: User = {\n",
    "    name: \"Nate Stringham\",\n",
    "    email: \"nstringham@xby2.com\",\n",
    "    avatar: {\n",
    "        url: new URL(\"https://gravatar.com/avatar/c4febc3999deea654830298fd10b4fa2\"),\n",
    "        height: 128,\n",
    "        width: 128\n",
    "    },\n",
    "    activeSessions: [\"3217506978621539\", \"28905703780324\"],\n",
    "    logout() {\n",
    "        console.log(\"Nate was logged out\");\n",
    "    }\n",
    "};\n",
    "\n",
    "const ray: User = {\n",
    "    name: \"Ray Schade\",\n",
    "    email: \"rschade@xby2.com\"\n",
    "};\n",
    "\n",
    "const jasonRileyCio: User | undefined = undefined;"
   ]
  },
  {
   "cell_type": "code",
   "execution_count": 12,
   "metadata": {},
   "outputs": [
    {
     "data": {
      "text/plain": [
       "\u001b[32m\"Nate Stringham\"\u001b[39m"
      ]
     },
     "execution_count": 12,
     "metadata": {},
     "output_type": "execute_result"
    }
   ],
   "source": [
    "nate.name"
   ]
  },
  {
   "cell_type": "code",
   "execution_count": 13,
   "metadata": {},
   "outputs": [
    {
     "data": {
      "text/plain": [
       "\u001b[32m\"Ray Schade\"\u001b[39m"
      ]
     },
     "execution_count": 13,
     "metadata": {},
     "output_type": "execute_result"
    }
   ],
   "source": [
    "ray.name"
   ]
  },
  {
   "cell_type": "code",
   "execution_count": 14,
   "metadata": {},
   "outputs": [
    {
     "ename": "TypeError",
     "evalue": "Cannot read properties of undefined (reading 'name')",
     "output_type": "error",
     "traceback": [
      "Stack trace:",
      "TypeError: Cannot read properties of undefined (reading 'name')",
      "    at <anonymous>:1:36"
     ]
    }
   ],
   "source": [
    "jasonRileyCio.name"
   ]
  },
  {
   "cell_type": "code",
   "execution_count": 15,
   "metadata": {},
   "outputs": [],
   "source": [
    "jasonRileyCio?.name"
   ]
  },
  {
   "cell_type": "code",
   "execution_count": 16,
   "metadata": {},
   "outputs": [
    {
     "data": {
      "text/plain": [
       "\u001b[32m\"missing user\"\u001b[39m"
      ]
     },
     "execution_count": 16,
     "metadata": {},
     "output_type": "execute_result"
    }
   ],
   "source": [
    "jasonRileyCio?.name ?? \"missing user\""
   ]
  },
  {
   "cell_type": "code",
   "execution_count": 17,
   "metadata": {},
   "outputs": [
    {
     "data": {
      "text/plain": [
       "\u001b[32m\"https://gravatar.com/avatar/c4febc3999deea654830298fd10b4fa2\"\u001b[39m"
      ]
     },
     "execution_count": 17,
     "metadata": {},
     "output_type": "execute_result"
    }
   ],
   "source": [
    "nate.avatar?.url.href"
   ]
  },
  {
   "cell_type": "code",
   "execution_count": 19,
   "metadata": {},
   "outputs": [
    {
     "data": {
      "text/plain": [
       "\u001b[32m\"default profile URL\"\u001b[39m"
      ]
     },
     "execution_count": 19,
     "metadata": {},
     "output_type": "execute_result"
    }
   ],
   "source": [
    "ray.avatar?.url.href ?? \"default profile URL\""
   ]
  },
  {
   "cell_type": "code",
   "execution_count": 18,
   "metadata": {},
   "outputs": [
    {
     "data": {
      "text/plain": [
       "\u001b[32m\"default profile URL\"\u001b[39m"
      ]
     },
     "execution_count": 18,
     "metadata": {},
     "output_type": "execute_result"
    }
   ],
   "source": [
    "jasonRileyCio?.avatar?.url.href ?? \"default profile URL\""
   ]
  },
  {
   "cell_type": "code",
   "execution_count": 21,
   "metadata": {},
   "outputs": [
    {
     "data": {
      "text/plain": [
       "\u001b[32m\"3217506978621539\"\u001b[39m"
      ]
     },
     "execution_count": 21,
     "metadata": {},
     "output_type": "execute_result"
    }
   ],
   "source": [
    "nate.activeSessions[0]"
   ]
  },
  {
   "cell_type": "code",
   "execution_count": 20,
   "metadata": {},
   "outputs": [
    {
     "ename": "TypeError",
     "evalue": "Cannot read properties of undefined (reading '0')",
     "output_type": "error",
     "traceback": [
      "Stack trace:",
      "TypeError: Cannot read properties of undefined (reading '0')",
      "    at <anonymous>:1:40"
     ]
    }
   ],
   "source": [
    "ray.activeSessions[0]"
   ]
  },
  {
   "cell_type": "code",
   "execution_count": 22,
   "metadata": {},
   "outputs": [
    {
     "data": {
      "text/plain": [
       "\u001b[32m\"no sessions\"\u001b[39m"
      ]
     },
     "execution_count": 22,
     "metadata": {},
     "output_type": "execute_result"
    }
   ],
   "source": [
    "ray.activeSessions?.[0] ?? \"no sessions\""
   ]
  },
  {
   "cell_type": "code",
   "execution_count": 23,
   "metadata": {},
   "outputs": [
    {
     "name": "stdout",
     "output_type": "stream",
     "text": [
      "Nate was logged out\n"
     ]
    }
   ],
   "source": [
    "nate.logout()"
   ]
  },
  {
   "cell_type": "code",
   "execution_count": 24,
   "metadata": {},
   "outputs": [
    {
     "ename": "TypeError",
     "evalue": "ray.logout is not a function",
     "output_type": "error",
     "traceback": [
      "Stack trace:",
      "TypeError: ray.logout is not a function",
      "    at <anonymous>:1:26"
     ]
    }
   ],
   "source": [
    "ray.logout()"
   ]
  },
  {
   "cell_type": "code",
   "execution_count": 25,
   "metadata": {},
   "outputs": [],
   "source": [
    "ray.logout?.()"
   ]
  },
  {
   "cell_type": "markdown",
   "metadata": {},
   "source": [
    "### URL Class\n",
    "- [MDN](https://developer.mozilla.org/en-US/docs/Web/API/URL)\n",
    "- a class for manipulating URLs"
   ]
  },
  {
   "cell_type": "code",
   "execution_count": 26,
   "metadata": {},
   "outputs": [
    {
     "data": {
      "text/plain": [
       "URL {\n",
       "  href: \u001b[32m\"https://xby2.com:8080/search?q=Jason+Riley+CIO#main-content\"\u001b[39m,\n",
       "  origin: \u001b[32m\"https://xby2.com:8080\"\u001b[39m,\n",
       "  protocol: \u001b[32m\"https:\"\u001b[39m,\n",
       "  username: \u001b[32m\"\"\u001b[39m,\n",
       "  password: \u001b[32m\"\"\u001b[39m,\n",
       "  host: \u001b[32m\"xby2.com:8080\"\u001b[39m,\n",
       "  hostname: \u001b[32m\"xby2.com\"\u001b[39m,\n",
       "  port: \u001b[32m\"8080\"\u001b[39m,\n",
       "  pathname: \u001b[32m\"/search\"\u001b[39m,\n",
       "  hash: \u001b[32m\"#main-content\"\u001b[39m,\n",
       "  search: \u001b[32m\"?q=Jason+Riley+CIO\"\u001b[39m\n",
       "}"
      ]
     },
     "execution_count": 26,
     "metadata": {},
     "output_type": "execute_result"
    }
   ],
   "source": [
    "new URL(\"https://xby2.com:8080/search?q=Jason+Riley+CIO#main-content\")"
   ]
  },
  {
   "cell_type": "code",
   "execution_count": 27,
   "metadata": {},
   "outputs": [
    {
     "data": {
      "text/plain": [
       "\u001b[32m\"https://xby2.com/about-us/learn-more#section-1\"\u001b[39m"
      ]
     },
     "execution_count": 27,
     "metadata": {},
     "output_type": "execute_result"
    }
   ],
   "source": [
    "new URL(\"learn-more#section-1\", \"https://xby2.com/about-us/\").href"
   ]
  },
  {
   "cell_type": "code",
   "execution_count": 28,
   "metadata": {},
   "outputs": [
    {
     "data": {
      "text/plain": [
       "\u001b[32m\"Jason Riley CIO\"\u001b[39m"
      ]
     },
     "execution_count": 28,
     "metadata": {},
     "output_type": "execute_result"
    }
   ],
   "source": [
    "const url = new URL(\"https://www.google.com/search?q=Jason+Riley+CIO&sca_esv=2f2b3b0e1cf18&sca_upv=1&source=hp&ei=D5DoZCrih0PEPxr-WmQU&iflsig=AL9hbdgAZuieH5--gfrWM1IDQOASJMiVS&ved=0ahUKEwiw3K2BocafJVMQ4dUDCA8&uact=5&oq=Jason+Riley+CIO&sclient=gws-wiz\");\n",
    "url.searchParams.get(\"q\")"
   ]
  },
  {
   "cell_type": "markdown",
   "metadata": {},
   "source": [
    "### Fetch\n",
    "- [MDN](https://developer.mozilla.org/en-US/docs/Web/API/Fetch_API)\n",
    "- make http requests\n",
    "- never use axios again"
   ]
  },
  {
   "cell_type": "code",
   "execution_count": 30,
   "metadata": {},
   "outputs": [
    {
     "data": {
      "text/plain": [
       "{\n",
       "  tags: [ \u001b[32m\"cute\"\u001b[39m, \u001b[32m\"face\"\u001b[39m, \u001b[32m\"white\"\u001b[39m ],\n",
       "  mimetype: \u001b[32m\"image/jpeg\"\u001b[39m,\n",
       "  size: \u001b[33m36719\u001b[39m,\n",
       "  createdAt: \u001b[32m\"2024-01-03T18:29:33.822Z\"\u001b[39m,\n",
       "  editedAt: \u001b[32m\"2024-01-08T08:49:40.446Z\"\u001b[39m,\n",
       "  _id: \u001b[32m\"zeAG7BfSGsweyeSO\"\u001b[39m\n",
       "}"
      ]
     },
     "execution_count": 30,
     "metadata": {},
     "output_type": "execute_result"
    }
   ],
   "source": [
    "const response = await fetch(\"https://cataas.com/cat?json=true\");\n",
    "const cats = await response.json()\n",
    "cats"
   ]
  },
  {
   "cell_type": "markdown",
   "metadata": {},
   "source": [
    "### Private Properties (.#)\n",
    "- [MDN](https://developer.mozilla.org/en-US/docs/Web/JavaScript/Reference/Classes/Private_properties)\n",
    "- truly private properties and methods"
   ]
  },
  {
   "cell_type": "code",
   "execution_count": 31,
   "metadata": {},
   "outputs": [],
   "source": [
    "class Person {\n",
    "    name: string;\n",
    "    #age: number;\n",
    "\n",
    "    constructor(name: string, age: number) {\n",
    "        this.name = name;\n",
    "        this.setAge(age);\n",
    "    }\n",
    "\n",
    "    getAge(): number {\n",
    "        return this.#age;\n",
    "    }\n",
    "\n",
    "    setAge(value: number) {\n",
    "        if (value < 0 || !Number.isFinite(value)) {\n",
    "            throw new Error(\"Age must be a positive finite number!\");\n",
    "        }\n",
    "        this.#age = value;\n",
    "    }\n",
    "}"
   ]
  },
  {
   "cell_type": "markdown",
   "metadata": {},
   "source": [
    "### get\n",
    "- [MDN](https://developer.mozilla.org/en-US/docs/Web/JavaScript/Reference/Functions/get)\n",
    "- getter for object property\n",
    "\n",
    "### set\n",
    "- [MDN](https://developer.mozilla.org/en-US/docs/Web/JavaScript/Reference/Functions/set)\n",
    "- setter for object property"
   ]
  },
  {
   "cell_type": "code",
   "execution_count": 32,
   "metadata": {},
   "outputs": [
    {
     "data": {
      "text/plain": [
       "\u001b[33m46\u001b[39m"
      ]
     },
     "execution_count": 32,
     "metadata": {},
     "output_type": "execute_result"
    }
   ],
   "source": [
    "class Person2 {\n",
    "    name: string;\n",
    "    #age: number;\n",
    "\n",
    "    constructor(name: string, age: number) {\n",
    "        this.name = name;\n",
    "        this.age = age;\n",
    "    }\n",
    "\n",
    "    get age(): number {\n",
    "        return this.#age;\n",
    "    }\n",
    "\n",
    "    set age(value: number) {\n",
    "        if (value < 0 || !Number.isFinite(value)) {\n",
    "            throw new Error(\"Age must be a positive finite number!\");\n",
    "        }\n",
    "        this.#age = value;\n",
    "    }\n",
    "}\n",
    "\n",
    "const person = new Person2(\"Jason Riley CIO\", 45);\n",
    "\n",
    "person.age += 1;\n",
    "\n",
    "person.age"
   ]
  },
  {
   "cell_type": "markdown",
   "metadata": {},
   "source": [
    "### Set\n",
    "- [MDN](https://developer.mozilla.org/en-US/docs/Web/JavaScript/Reference/Global_Objects/Set)\n",
    "- a collection with no duplicates"
   ]
  },
  {
   "cell_type": "code",
   "execution_count": 33,
   "metadata": {},
   "outputs": [
    {
     "data": {
      "text/plain": [
       "Set(3) { \u001b[32m\"Cat\"\u001b[39m, \u001b[32m\"Moose\"\u001b[39m, \u001b[32m\"Beaver\"\u001b[39m }"
      ]
     },
     "execution_count": 33,
     "metadata": {},
     "output_type": "execute_result"
    }
   ],
   "source": [
    "const favoriteAnimals = new Set([\"Cat\", \"Moose\", \"Beaver\", \"Cat\"]);\n",
    "favoriteAnimals"
   ]
  },
  {
   "cell_type": "code",
   "execution_count": 34,
   "metadata": {},
   "outputs": [
    {
     "data": {
      "text/plain": [
       "Set(4) { \u001b[32m\"Cat\"\u001b[39m, \u001b[32m\"Moose\"\u001b[39m, \u001b[32m\"Beaver\"\u001b[39m, \u001b[32m\"Owlbear\"\u001b[39m }"
      ]
     },
     "execution_count": 34,
     "metadata": {},
     "output_type": "execute_result"
    }
   ],
   "source": [
    "favoriteAnimals.add(\"Owlbear\");\n",
    "favoriteAnimals.add(\"Cat\");\n",
    "favoriteAnimals"
   ]
  },
  {
   "cell_type": "code",
   "execution_count": 35,
   "metadata": {},
   "outputs": [
    {
     "data": {
      "text/plain": [
       "\u001b[33mtrue\u001b[39m"
      ]
     },
     "execution_count": 35,
     "metadata": {},
     "output_type": "execute_result"
    }
   ],
   "source": [
    "favoriteAnimals.has(\"Cat\")"
   ]
  },
  {
   "cell_type": "code",
   "execution_count": 36,
   "metadata": {},
   "outputs": [
    {
     "data": {
      "text/plain": [
       "\u001b[33mfalse\u001b[39m"
      ]
     },
     "execution_count": 36,
     "metadata": {},
     "output_type": "execute_result"
    }
   ],
   "source": [
    "favoriteAnimals.has(\"Dog\")"
   ]
  },
  {
   "cell_type": "code",
   "execution_count": 37,
   "metadata": {},
   "outputs": [
    {
     "name": "stdout",
     "output_type": "stream",
     "text": [
      "Cat\n",
      "Moose\n",
      "Beaver\n",
      "Owlbear\n"
     ]
    }
   ],
   "source": [
    "for (const animal of favoriteAnimals) {\n",
    "    console.log(animal)\n",
    "}"
   ]
  },
  {
   "cell_type": "markdown",
   "metadata": {},
   "source": [
    "### Map\n",
    "- [MDN](https://developer.mozilla.org/en-US/docs/Web/JavaScript/Reference/Global_Objects/Map)\n",
    "- a key value store\n",
    "- keys can be any type"
   ]
  },
  {
   "cell_type": "code",
   "execution_count": 38,
   "metadata": {},
   "outputs": [
    {
     "data": {
      "text/plain": [
       "Map(2) { \u001b[32m\"Cat\"\u001b[39m => \u001b[32m\"Tuna\"\u001b[39m, \u001b[32m\"Moose\"\u001b[39m => \u001b[32m\"Moss\"\u001b[39m }"
      ]
     },
     "execution_count": 38,
     "metadata": {},
     "output_type": "execute_result"
    }
   ],
   "source": [
    "const favoriteFoods = new Map([[\"Cat\", \"Tuna\"], [\"Moose\", \"Moss\"]]);\n",
    "favoriteFoods"
   ]
  },
  {
   "cell_type": "code",
   "execution_count": 39,
   "metadata": {},
   "outputs": [
    {
     "data": {
      "text/plain": [
       "Map(3) { \u001b[32m\"Cat\"\u001b[39m => \u001b[32m\"Tuna\"\u001b[39m, \u001b[32m\"Moose\"\u001b[39m => \u001b[32m\"Moss\"\u001b[39m, \u001b[32m\"Beaver\"\u001b[39m => \u001b[32m\"Wood\"\u001b[39m }"
      ]
     },
     "execution_count": 39,
     "metadata": {},
     "output_type": "execute_result"
    }
   ],
   "source": [
    "favoriteFoods.set(\"Beaver\", \"Wood\");\n",
    "favoriteFoods"
   ]
  },
  {
   "cell_type": "code",
   "execution_count": 40,
   "metadata": {},
   "outputs": [
    {
     "data": {
      "text/plain": [
       "Map(2) { \u001b[32m\"Cat\"\u001b[39m => \u001b[32m\"Tuna\"\u001b[39m, \u001b[32m\"Beaver\"\u001b[39m => \u001b[32m\"Wood\"\u001b[39m }"
      ]
     },
     "execution_count": 40,
     "metadata": {},
     "output_type": "execute_result"
    }
   ],
   "source": [
    "favoriteFoods.delete(\"Moose\");\n",
    "favoriteFoods"
   ]
  },
  {
   "cell_type": "code",
   "execution_count": 41,
   "metadata": {},
   "outputs": [
    {
     "name": "stdout",
     "output_type": "stream",
     "text": [
      "Animals: [Map Iterator] { \"Cat\", \"Beaver\" }\n",
      "Foods: [Map Iterator] { \"Tuna\", \"Wood\" }\n",
      "Cat eats Tuna\n",
      "Beaver eats Wood\n"
     ]
    }
   ],
   "source": [
    "console.log(\"Animals:\", favoriteFoods.keys());\n",
    "console.log(\"Foods:\", favoriteFoods.values());\n",
    "for (const [animal, food] of favoriteFoods.entries()) {\n",
    "    console.log(animal + \" eats \" + food)\n",
    "}"
   ]
  }
 ],
 "metadata": {
  "kernelspec": {
   "display_name": "Deno",
   "language": "typescript",
   "name": "deno"
  },
  "language_info": {
   "codemirror_mode": "typescript",
   "file_extension": ".ts",
   "mimetype": "text/x.typescript",
   "name": "typescript",
   "nbconvert_exporter": "script",
   "pygments_lexer": "typescript",
   "version": "5.5.2"
  }
 },
 "nbformat": 4,
 "nbformat_minor": 2
}
